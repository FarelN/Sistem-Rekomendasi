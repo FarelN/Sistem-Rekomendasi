{
  "nbformat": 4,
  "nbformat_minor": 0,
  "metadata": {
    "colab": {
      "provenance": []
    },
    "kernelspec": {
      "name": "python3",
      "display_name": "Python 3"
    },
    "language_info": {
      "name": "python"
    }
  },
  "cells": [
    {
      "cell_type": "code",
      "source": [
        "import pandas as pd\n",
        "import numpy as np\n",
        "from sklearn.metrics.pairwise import cosine_similarity\n",
        "from sklearn.feature_extraction.text import TfidfVectorizer\n",
        "from nltk.corpus import stopwords\n",
        "import re\n",
        "import random\n",
        "\n",
        "df = pd.read_csv(\"https://raw.githubusercontent.com/FarelN/Sistem-Rekomendasi/main/CSV/tugas%20sistem%20rekomendasi.csv\")\n",
        "df.head()"
      ],
      "metadata": {
        "id": "Jc0Trc6m4rKt",
        "colab": {
          "base_uri": "https://localhost:8080/",
          "height": 206
        },
        "outputId": "50c28eb0-0712-4ffa-c9b2-e77b6f740b6b"
      },
      "execution_count": 26,
      "outputs": [
        {
          "output_type": "execute_result",
          "data": {
            "text/plain": [
              "                                Name  \\\n",
              "0                   Farrel Nathanael   \n",
              "1            PT Ruang Raya Indonesia   \n",
              "2       PT Nurul Fikri Cipta Inovasi   \n",
              "3  PT. Sintesis Komunikasi Indonesia   \n",
              "4         PT Neosia Pratama Indonusa   \n",
              "\n",
              "                                             Address  \\\n",
              "0         Jl.Puri Sartika Blok B Semarang, Indonesia   \n",
              "1  Jl. Dr. Saharjo No.161, Manggarai Selatan, Teb...   \n",
              "2  Jl. Situ Indah No.116 RT. 006 RW. 010 Kel. Tug...   \n",
              "3  Jl. Cisanggiri V, No 6, Petogogan, Kebayoran B...   \n",
              "4  Sona Topas Tower, lt. 5A/526. Jl. Jendral Sudi...   \n",
              "\n",
              "                                         Description  \n",
              "0  Algoritma dan pemrograman, bahasa pemrograman,...  \n",
              "1  Data & Visualization with Tableau Memahami car...  \n",
              "2  Soft Skill. UI/UX. Design Pattern. Pemrograman...  \n",
              "3  Logika dan Konsep Teknologi AI. Metode Penelit...  \n",
              "4  Pemodelan BIM Disiplin Struktur. Pemodelan BIM...  "
            ],
            "text/html": [
              "\n",
              "  <div id=\"df-58378485-7f19-41e0-83de-659d1453371a\">\n",
              "    <div class=\"colab-df-container\">\n",
              "      <div>\n",
              "<style scoped>\n",
              "    .dataframe tbody tr th:only-of-type {\n",
              "        vertical-align: middle;\n",
              "    }\n",
              "\n",
              "    .dataframe tbody tr th {\n",
              "        vertical-align: top;\n",
              "    }\n",
              "\n",
              "    .dataframe thead th {\n",
              "        text-align: right;\n",
              "    }\n",
              "</style>\n",
              "<table border=\"1\" class=\"dataframe\">\n",
              "  <thead>\n",
              "    <tr style=\"text-align: right;\">\n",
              "      <th></th>\n",
              "      <th>Name</th>\n",
              "      <th>Address</th>\n",
              "      <th>Description</th>\n",
              "    </tr>\n",
              "  </thead>\n",
              "  <tbody>\n",
              "    <tr>\n",
              "      <th>0</th>\n",
              "      <td>Farrel Nathanael</td>\n",
              "      <td>Jl.Puri Sartika Blok B Semarang, Indonesia</td>\n",
              "      <td>Algoritma dan pemrograman, bahasa pemrograman,...</td>\n",
              "    </tr>\n",
              "    <tr>\n",
              "      <th>1</th>\n",
              "      <td>PT Ruang Raya Indonesia</td>\n",
              "      <td>Jl. Dr. Saharjo No.161, Manggarai Selatan, Teb...</td>\n",
              "      <td>Data &amp; Visualization with Tableau Memahami car...</td>\n",
              "    </tr>\n",
              "    <tr>\n",
              "      <th>2</th>\n",
              "      <td>PT Nurul Fikri Cipta Inovasi</td>\n",
              "      <td>Jl. Situ Indah No.116 RT. 006 RW. 010 Kel. Tug...</td>\n",
              "      <td>Soft Skill. UI/UX. Design Pattern. Pemrograman...</td>\n",
              "    </tr>\n",
              "    <tr>\n",
              "      <th>3</th>\n",
              "      <td>PT. Sintesis Komunikasi Indonesia</td>\n",
              "      <td>Jl. Cisanggiri V, No 6, Petogogan, Kebayoran B...</td>\n",
              "      <td>Logika dan Konsep Teknologi AI. Metode Penelit...</td>\n",
              "    </tr>\n",
              "    <tr>\n",
              "      <th>4</th>\n",
              "      <td>PT Neosia Pratama Indonusa</td>\n",
              "      <td>Sona Topas Tower, lt. 5A/526. Jl. Jendral Sudi...</td>\n",
              "      <td>Pemodelan BIM Disiplin Struktur. Pemodelan BIM...</td>\n",
              "    </tr>\n",
              "  </tbody>\n",
              "</table>\n",
              "</div>\n",
              "      <button class=\"colab-df-convert\" onclick=\"convertToInteractive('df-58378485-7f19-41e0-83de-659d1453371a')\"\n",
              "              title=\"Convert this dataframe to an interactive table.\"\n",
              "              style=\"display:none;\">\n",
              "        \n",
              "  <svg xmlns=\"http://www.w3.org/2000/svg\" height=\"24px\"viewBox=\"0 0 24 24\"\n",
              "       width=\"24px\">\n",
              "    <path d=\"M0 0h24v24H0V0z\" fill=\"none\"/>\n",
              "    <path d=\"M18.56 5.44l.94 2.06.94-2.06 2.06-.94-2.06-.94-.94-2.06-.94 2.06-2.06.94zm-11 1L8.5 8.5l.94-2.06 2.06-.94-2.06-.94L8.5 2.5l-.94 2.06-2.06.94zm10 10l.94 2.06.94-2.06 2.06-.94-2.06-.94-.94-2.06-.94 2.06-2.06.94z\"/><path d=\"M17.41 7.96l-1.37-1.37c-.4-.4-.92-.59-1.43-.59-.52 0-1.04.2-1.43.59L10.3 9.45l-7.72 7.72c-.78.78-.78 2.05 0 2.83L4 21.41c.39.39.9.59 1.41.59.51 0 1.02-.2 1.41-.59l7.78-7.78 2.81-2.81c.8-.78.8-2.07 0-2.86zM5.41 20L4 18.59l7.72-7.72 1.47 1.35L5.41 20z\"/>\n",
              "  </svg>\n",
              "      </button>\n",
              "      \n",
              "  <style>\n",
              "    .colab-df-container {\n",
              "      display:flex;\n",
              "      flex-wrap:wrap;\n",
              "      gap: 12px;\n",
              "    }\n",
              "\n",
              "    .colab-df-convert {\n",
              "      background-color: #E8F0FE;\n",
              "      border: none;\n",
              "      border-radius: 50%;\n",
              "      cursor: pointer;\n",
              "      display: none;\n",
              "      fill: #1967D2;\n",
              "      height: 32px;\n",
              "      padding: 0 0 0 0;\n",
              "      width: 32px;\n",
              "    }\n",
              "\n",
              "    .colab-df-convert:hover {\n",
              "      background-color: #E2EBFA;\n",
              "      box-shadow: 0px 1px 2px rgba(60, 64, 67, 0.3), 0px 1px 3px 1px rgba(60, 64, 67, 0.15);\n",
              "      fill: #174EA6;\n",
              "    }\n",
              "\n",
              "    [theme=dark] .colab-df-convert {\n",
              "      background-color: #3B4455;\n",
              "      fill: #D2E3FC;\n",
              "    }\n",
              "\n",
              "    [theme=dark] .colab-df-convert:hover {\n",
              "      background-color: #434B5C;\n",
              "      box-shadow: 0px 1px 3px 1px rgba(0, 0, 0, 0.15);\n",
              "      filter: drop-shadow(0px 1px 2px rgba(0, 0, 0, 0.3));\n",
              "      fill: #FFFFFF;\n",
              "    }\n",
              "  </style>\n",
              "\n",
              "      <script>\n",
              "        const buttonEl =\n",
              "          document.querySelector('#df-58378485-7f19-41e0-83de-659d1453371a button.colab-df-convert');\n",
              "        buttonEl.style.display =\n",
              "          google.colab.kernel.accessAllowed ? 'block' : 'none';\n",
              "\n",
              "        async function convertToInteractive(key) {\n",
              "          const element = document.querySelector('#df-58378485-7f19-41e0-83de-659d1453371a');\n",
              "          const dataTable =\n",
              "            await google.colab.kernel.invokeFunction('convertToInteractive',\n",
              "                                                     [key], {});\n",
              "          if (!dataTable) return;\n",
              "\n",
              "          const docLinkHtml = 'Like what you see? Visit the ' +\n",
              "            '<a target=\"_blank\" href=https://colab.research.google.com/notebooks/data_table.ipynb>data table notebook</a>'\n",
              "            + ' to learn more about interactive tables.';\n",
              "          element.innerHTML = '';\n",
              "          dataTable['output_type'] = 'display_data';\n",
              "          await google.colab.output.renderOutput(dataTable, element);\n",
              "          const docLink = document.createElement('div');\n",
              "          docLink.innerHTML = docLinkHtml;\n",
              "          element.appendChild(docLink);\n",
              "        }\n",
              "      </script>\n",
              "    </div>\n",
              "  </div>\n",
              "  "
            ]
          },
          "metadata": {},
          "execution_count": 26
        }
      ]
    },
    {
      "cell_type": "code",
      "source": [
        "df.describe()"
      ],
      "metadata": {
        "colab": {
          "base_uri": "https://localhost:8080/",
          "height": 175
        },
        "id": "wkpUUjZJ5DQb",
        "outputId": "c5f04083-0e7c-42df-875c-fd421ce101f5"
      },
      "execution_count": 27,
      "outputs": [
        {
          "output_type": "execute_result",
          "data": {
            "text/plain": [
              "                    Name                                     Address  \\\n",
              "count                 11                                          11   \n",
              "unique                11                                          11   \n",
              "top     Farrel Nathanael  Jl.Puri Sartika Blok B Semarang, Indonesia   \n",
              "freq                   1                                           1   \n",
              "\n",
              "                                              Description  \n",
              "count                                                  11  \n",
              "unique                                                 11  \n",
              "top     Algoritma dan pemrograman, bahasa pemrograman,...  \n",
              "freq                                                    1  "
            ],
            "text/html": [
              "\n",
              "  <div id=\"df-b5bef6f5-438c-4c97-945a-5d7eac27ecde\">\n",
              "    <div class=\"colab-df-container\">\n",
              "      <div>\n",
              "<style scoped>\n",
              "    .dataframe tbody tr th:only-of-type {\n",
              "        vertical-align: middle;\n",
              "    }\n",
              "\n",
              "    .dataframe tbody tr th {\n",
              "        vertical-align: top;\n",
              "    }\n",
              "\n",
              "    .dataframe thead th {\n",
              "        text-align: right;\n",
              "    }\n",
              "</style>\n",
              "<table border=\"1\" class=\"dataframe\">\n",
              "  <thead>\n",
              "    <tr style=\"text-align: right;\">\n",
              "      <th></th>\n",
              "      <th>Name</th>\n",
              "      <th>Address</th>\n",
              "      <th>Description</th>\n",
              "    </tr>\n",
              "  </thead>\n",
              "  <tbody>\n",
              "    <tr>\n",
              "      <th>count</th>\n",
              "      <td>11</td>\n",
              "      <td>11</td>\n",
              "      <td>11</td>\n",
              "    </tr>\n",
              "    <tr>\n",
              "      <th>unique</th>\n",
              "      <td>11</td>\n",
              "      <td>11</td>\n",
              "      <td>11</td>\n",
              "    </tr>\n",
              "    <tr>\n",
              "      <th>top</th>\n",
              "      <td>Farrel Nathanael</td>\n",
              "      <td>Jl.Puri Sartika Blok B Semarang, Indonesia</td>\n",
              "      <td>Algoritma dan pemrograman, bahasa pemrograman,...</td>\n",
              "    </tr>\n",
              "    <tr>\n",
              "      <th>freq</th>\n",
              "      <td>1</td>\n",
              "      <td>1</td>\n",
              "      <td>1</td>\n",
              "    </tr>\n",
              "  </tbody>\n",
              "</table>\n",
              "</div>\n",
              "      <button class=\"colab-df-convert\" onclick=\"convertToInteractive('df-b5bef6f5-438c-4c97-945a-5d7eac27ecde')\"\n",
              "              title=\"Convert this dataframe to an interactive table.\"\n",
              "              style=\"display:none;\">\n",
              "        \n",
              "  <svg xmlns=\"http://www.w3.org/2000/svg\" height=\"24px\"viewBox=\"0 0 24 24\"\n",
              "       width=\"24px\">\n",
              "    <path d=\"M0 0h24v24H0V0z\" fill=\"none\"/>\n",
              "    <path d=\"M18.56 5.44l.94 2.06.94-2.06 2.06-.94-2.06-.94-.94-2.06-.94 2.06-2.06.94zm-11 1L8.5 8.5l.94-2.06 2.06-.94-2.06-.94L8.5 2.5l-.94 2.06-2.06.94zm10 10l.94 2.06.94-2.06 2.06-.94-2.06-.94-.94-2.06-.94 2.06-2.06.94z\"/><path d=\"M17.41 7.96l-1.37-1.37c-.4-.4-.92-.59-1.43-.59-.52 0-1.04.2-1.43.59L10.3 9.45l-7.72 7.72c-.78.78-.78 2.05 0 2.83L4 21.41c.39.39.9.59 1.41.59.51 0 1.02-.2 1.41-.59l7.78-7.78 2.81-2.81c.8-.78.8-2.07 0-2.86zM5.41 20L4 18.59l7.72-7.72 1.47 1.35L5.41 20z\"/>\n",
              "  </svg>\n",
              "      </button>\n",
              "      \n",
              "  <style>\n",
              "    .colab-df-container {\n",
              "      display:flex;\n",
              "      flex-wrap:wrap;\n",
              "      gap: 12px;\n",
              "    }\n",
              "\n",
              "    .colab-df-convert {\n",
              "      background-color: #E8F0FE;\n",
              "      border: none;\n",
              "      border-radius: 50%;\n",
              "      cursor: pointer;\n",
              "      display: none;\n",
              "      fill: #1967D2;\n",
              "      height: 32px;\n",
              "      padding: 0 0 0 0;\n",
              "      width: 32px;\n",
              "    }\n",
              "\n",
              "    .colab-df-convert:hover {\n",
              "      background-color: #E2EBFA;\n",
              "      box-shadow: 0px 1px 2px rgba(60, 64, 67, 0.3), 0px 1px 3px 1px rgba(60, 64, 67, 0.15);\n",
              "      fill: #174EA6;\n",
              "    }\n",
              "\n",
              "    [theme=dark] .colab-df-convert {\n",
              "      background-color: #3B4455;\n",
              "      fill: #D2E3FC;\n",
              "    }\n",
              "\n",
              "    [theme=dark] .colab-df-convert:hover {\n",
              "      background-color: #434B5C;\n",
              "      box-shadow: 0px 1px 3px 1px rgba(0, 0, 0, 0.15);\n",
              "      filter: drop-shadow(0px 1px 2px rgba(0, 0, 0, 0.3));\n",
              "      fill: #FFFFFF;\n",
              "    }\n",
              "  </style>\n",
              "\n",
              "      <script>\n",
              "        const buttonEl =\n",
              "          document.querySelector('#df-b5bef6f5-438c-4c97-945a-5d7eac27ecde button.colab-df-convert');\n",
              "        buttonEl.style.display =\n",
              "          google.colab.kernel.accessAllowed ? 'block' : 'none';\n",
              "\n",
              "        async function convertToInteractive(key) {\n",
              "          const element = document.querySelector('#df-b5bef6f5-438c-4c97-945a-5d7eac27ecde');\n",
              "          const dataTable =\n",
              "            await google.colab.kernel.invokeFunction('convertToInteractive',\n",
              "                                                     [key], {});\n",
              "          if (!dataTable) return;\n",
              "\n",
              "          const docLinkHtml = 'Like what you see? Visit the ' +\n",
              "            '<a target=\"_blank\" href=https://colab.research.google.com/notebooks/data_table.ipynb>data table notebook</a>'\n",
              "            + ' to learn more about interactive tables.';\n",
              "          element.innerHTML = '';\n",
              "          dataTable['output_type'] = 'display_data';\n",
              "          await google.colab.output.renderOutput(dataTable, element);\n",
              "          const docLink = document.createElement('div');\n",
              "          docLink.innerHTML = docLinkHtml;\n",
              "          element.appendChild(docLink);\n",
              "        }\n",
              "      </script>\n",
              "    </div>\n",
              "  </div>\n",
              "  "
            ]
          },
          "metadata": {},
          "execution_count": 27
        }
      ]
    },
    {
      "cell_type": "markdown",
      "source": [
        "1. Ikhtisar"
      ],
      "metadata": {
        "id": "wAUE6zO85HFj"
      }
    },
    {
      "cell_type": "code",
      "source": [
        "df.info()"
      ],
      "metadata": {
        "colab": {
          "base_uri": "https://localhost:8080/"
        },
        "id": "ry7_k5R15EMT",
        "outputId": "2e786d54-8cd5-4882-b8f9-24663cc05d1f"
      },
      "execution_count": 28,
      "outputs": [
        {
          "output_type": "stream",
          "name": "stdout",
          "text": [
            "<class 'pandas.core.frame.DataFrame'>\n",
            "RangeIndex: 11 entries, 0 to 10\n",
            "Data columns (total 3 columns):\n",
            " #   Column       Non-Null Count  Dtype \n",
            "---  ------       --------------  ----- \n",
            " 0   Name         11 non-null     object\n",
            " 1   Address      11 non-null     object\n",
            " 2   Description  11 non-null     object\n",
            "dtypes: object(3)\n",
            "memory usage: 392.0+ bytes\n"
          ]
        }
      ]
    },
    {
      "cell_type": "markdown",
      "source": [
        "2. Tampilan Modul Pembelajaran (Sebelum Preprocessing)"
      ],
      "metadata": {
        "id": "H-9eJ73B5VVZ"
      }
    },
    {
      "cell_type": "code",
      "source": [
        "def print_description(index):\n",
        "    example = df[df.index == index][['Description', 'Name','Address']].values[0]\n",
        "    if len(example) > 0:\n",
        "        print(example[0])\n",
        "        print('Name:', example[1])\n",
        "        print('Address:', example[2])"
      ],
      "metadata": {
        "id": "bv2DmozY5TUS"
      },
      "execution_count": 29,
      "outputs": []
    },
    {
      "cell_type": "code",
      "source": [
        "print_description(1)"
      ],
      "metadata": {
        "colab": {
          "base_uri": "https://localhost:8080/"
        },
        "id": "G2BETGQc6I9T",
        "outputId": "7fc4e015-9d2d-4f38-a0a3-52bf352b501d"
      },
      "execution_count": 30,
      "outputs": [
        {
          "output_type": "stream",
          "name": "stdout",
          "text": [
            "Data & Visualization with Tableau Memahami cara untuk memvisualisasikan data menggunakan Tableau agar data dapat lebih mudah dipahami. Digital Product Analytics: memahami dasar-dasar digital product analytics untuk meningkatkan sistem operasional dalam bisnis. SQL for Analytics: Memahami dasar-dasar SQL dan mampu menggunakannya untuk ekstraksi data dari basis data relasional. Introduction to Data Analytics for Business: Menyusun, menyortir, memproses, dan mempelajari data bisnis menggunakan metode dan teknik tertentu untuk diubah menjadi suatu business insight. Final Project: mampu mengeksekusi suatu rangkaian projek data analitik yang mewakili real-case di industri meliputi tahap persiapan data, pengolahan data, pemodelan sampai dengan tahap visualisasi (dashboard). General Competencies: Pembelajaran tambahan yang dapat mendukung kemampuan peserta dalam mengikuti dan menerapkan program digital marketing yang meliputi: 1) Communication and Presentations SkilI 2)Analytical &amp; Strategic Thinking Skill.\n",
            "Name: PT Ruang Raya Indonesia\n",
            "Address: Jl. Dr. Saharjo No.161, Manggarai Selatan, Tebet, Kota Jakarta Selatan, Daerah Khusus Ibukota Jakarta 12860\n"
          ]
        }
      ]
    },
    {
      "cell_type": "code",
      "source": [
        "print_description(3)"
      ],
      "metadata": {
        "colab": {
          "base_uri": "https://localhost:8080/"
        },
        "id": "lCr4x6n16Jpb",
        "outputId": "2dea2dca-208e-4758-c246-e3699cc7648e"
      },
      "execution_count": 31,
      "outputs": [
        {
          "output_type": "stream",
          "name": "stdout",
          "text": [
            "Logika dan Konsep Teknologi AI. Metode Penelitian AI. Siklus Projek AI. Pemrograman Python. Etika Profesi & Keterampilan Perusahaan. Proyek Akhir.\n",
            "Name: PT. Sintesis Komunikasi Indonesia\n",
            "Address: Jl. Cisanggiri V, No 6, Petogogan, Kebayoran Baru, Jakarta Selatan 12170\n"
          ]
        }
      ]
    },
    {
      "cell_type": "code",
      "source": [
        "print_description(5)"
      ],
      "metadata": {
        "colab": {
          "base_uri": "https://localhost:8080/"
        },
        "id": "tud58fub6lMz",
        "outputId": "bd77dccb-39ca-4352-a8d9-2347ef552bb5"
      },
      "execution_count": 32,
      "outputs": [
        {
          "output_type": "stream",
          "name": "stdout",
          "text": [
            "Perancangan Produk/Jasa. Komunikasi. Leadership & Long Life Learning. Manajemen Organisasi Bisnis / Startup berbasis Teknologi Digital. Teknologi Informasi. Digital Mindset.\n",
            "Name: PT Mitra Semeru Indonesia\n",
            "Address: Jl. Mampang Prapatan Raya no 84A, Tegal Parang, Mampang Prapatan, Jakarta Selatan\n"
          ]
        }
      ]
    },
    {
      "cell_type": "markdown",
      "source": [
        "3. Text Preprocessing"
      ],
      "metadata": {
        "id": "GrqGTt3U6pts"
      }
    },
    {
      "cell_type": "code",
      "source": [
        "import nltk\n",
        "nltk.download('stopwords')\n",
        "clean_spcl = re.compile('[/(){}\\[\\]\\|@,;]')\n",
        "clean_symbol = re.compile('[^0-9a-z #+_]')\n",
        "stopworda = set(stopwords.words('english'))\n",
        "\n",
        "def clean_text(text):\n",
        "    \"\"\"\n",
        "        text: a string\n",
        "        \n",
        "        return: modified initial string\n",
        "    \"\"\"\n",
        "    text = text.lower() # lowercase text\n",
        "    text = clean_spcl.sub(' ', text)\n",
        "    text = clean_symbol.sub('', text)\n",
        "    #text = ' '.join(word for word in text.split() if word not in stopworda) # hapus stopword dari kolom deskripsi\n",
        "    return text\n",
        "    \n",
        "df['desc_clean'] = df['Description'].apply(clean_text)"
      ],
      "metadata": {
        "colab": {
          "base_uri": "https://localhost:8080/"
        },
        "id": "PDEceZXE6rej",
        "outputId": "6d7609ac-0aa3-4ff4-e88b-b71474338369"
      },
      "execution_count": 33,
      "outputs": [
        {
          "output_type": "stream",
          "name": "stderr",
          "text": [
            "[nltk_data] Downloading package stopwords to /root/nltk_data...\n",
            "[nltk_data]   Package stopwords is already up-to-date!\n"
          ]
        }
      ]
    },
    {
      "cell_type": "code",
      "source": [
        "df.head()"
      ],
      "metadata": {
        "colab": {
          "base_uri": "https://localhost:8080/",
          "height": 337
        },
        "id": "WRzhorpe7JOD",
        "outputId": "9dee8a05-7884-479f-e3df-1f9e218adcc7"
      },
      "execution_count": 34,
      "outputs": [
        {
          "output_type": "execute_result",
          "data": {
            "text/plain": [
              "                                Name  \\\n",
              "0                   Farrel Nathanael   \n",
              "1            PT Ruang Raya Indonesia   \n",
              "2       PT Nurul Fikri Cipta Inovasi   \n",
              "3  PT. Sintesis Komunikasi Indonesia   \n",
              "4         PT Neosia Pratama Indonusa   \n",
              "\n",
              "                                             Address  \\\n",
              "0         Jl.Puri Sartika Blok B Semarang, Indonesia   \n",
              "1  Jl. Dr. Saharjo No.161, Manggarai Selatan, Teb...   \n",
              "2  Jl. Situ Indah No.116 RT. 006 RW. 010 Kel. Tug...   \n",
              "3  Jl. Cisanggiri V, No 6, Petogogan, Kebayoran B...   \n",
              "4  Sona Topas Tower, lt. 5A/526. Jl. Jendral Sudi...   \n",
              "\n",
              "                                         Description  \\\n",
              "0  Algoritma dan pemrograman, bahasa pemrograman,...   \n",
              "1  Data & Visualization with Tableau Memahami car...   \n",
              "2  Soft Skill. UI/UX. Design Pattern. Pemrograman...   \n",
              "3  Logika dan Konsep Teknologi AI. Metode Penelit...   \n",
              "4  Pemodelan BIM Disiplin Struktur. Pemodelan BIM...   \n",
              "\n",
              "                                          desc_clean  \n",
              "0  algoritma dan pemrograman  bahasa pemrograman ...  \n",
              "1  data  visualization with tableau memahami cara...  \n",
              "2  soft skill ui ux design pattern pemrograman mo...  \n",
              "3  logika dan konsep teknologi ai metode peneliti...  \n",
              "4  pemodelan bim disiplin struktur pemodelan bim ...  "
            ],
            "text/html": [
              "\n",
              "  <div id=\"df-1f550cdb-6fc2-411e-a2a8-611194ce2d5e\">\n",
              "    <div class=\"colab-df-container\">\n",
              "      <div>\n",
              "<style scoped>\n",
              "    .dataframe tbody tr th:only-of-type {\n",
              "        vertical-align: middle;\n",
              "    }\n",
              "\n",
              "    .dataframe tbody tr th {\n",
              "        vertical-align: top;\n",
              "    }\n",
              "\n",
              "    .dataframe thead th {\n",
              "        text-align: right;\n",
              "    }\n",
              "</style>\n",
              "<table border=\"1\" class=\"dataframe\">\n",
              "  <thead>\n",
              "    <tr style=\"text-align: right;\">\n",
              "      <th></th>\n",
              "      <th>Name</th>\n",
              "      <th>Address</th>\n",
              "      <th>Description</th>\n",
              "      <th>desc_clean</th>\n",
              "    </tr>\n",
              "  </thead>\n",
              "  <tbody>\n",
              "    <tr>\n",
              "      <th>0</th>\n",
              "      <td>Farrel Nathanael</td>\n",
              "      <td>Jl.Puri Sartika Blok B Semarang, Indonesia</td>\n",
              "      <td>Algoritma dan pemrograman, bahasa pemrograman,...</td>\n",
              "      <td>algoritma dan pemrograman  bahasa pemrograman ...</td>\n",
              "    </tr>\n",
              "    <tr>\n",
              "      <th>1</th>\n",
              "      <td>PT Ruang Raya Indonesia</td>\n",
              "      <td>Jl. Dr. Saharjo No.161, Manggarai Selatan, Teb...</td>\n",
              "      <td>Data &amp; Visualization with Tableau Memahami car...</td>\n",
              "      <td>data  visualization with tableau memahami cara...</td>\n",
              "    </tr>\n",
              "    <tr>\n",
              "      <th>2</th>\n",
              "      <td>PT Nurul Fikri Cipta Inovasi</td>\n",
              "      <td>Jl. Situ Indah No.116 RT. 006 RW. 010 Kel. Tug...</td>\n",
              "      <td>Soft Skill. UI/UX. Design Pattern. Pemrograman...</td>\n",
              "      <td>soft skill ui ux design pattern pemrograman mo...</td>\n",
              "    </tr>\n",
              "    <tr>\n",
              "      <th>3</th>\n",
              "      <td>PT. Sintesis Komunikasi Indonesia</td>\n",
              "      <td>Jl. Cisanggiri V, No 6, Petogogan, Kebayoran B...</td>\n",
              "      <td>Logika dan Konsep Teknologi AI. Metode Penelit...</td>\n",
              "      <td>logika dan konsep teknologi ai metode peneliti...</td>\n",
              "    </tr>\n",
              "    <tr>\n",
              "      <th>4</th>\n",
              "      <td>PT Neosia Pratama Indonusa</td>\n",
              "      <td>Sona Topas Tower, lt. 5A/526. Jl. Jendral Sudi...</td>\n",
              "      <td>Pemodelan BIM Disiplin Struktur. Pemodelan BIM...</td>\n",
              "      <td>pemodelan bim disiplin struktur pemodelan bim ...</td>\n",
              "    </tr>\n",
              "  </tbody>\n",
              "</table>\n",
              "</div>\n",
              "      <button class=\"colab-df-convert\" onclick=\"convertToInteractive('df-1f550cdb-6fc2-411e-a2a8-611194ce2d5e')\"\n",
              "              title=\"Convert this dataframe to an interactive table.\"\n",
              "              style=\"display:none;\">\n",
              "        \n",
              "  <svg xmlns=\"http://www.w3.org/2000/svg\" height=\"24px\"viewBox=\"0 0 24 24\"\n",
              "       width=\"24px\">\n",
              "    <path d=\"M0 0h24v24H0V0z\" fill=\"none\"/>\n",
              "    <path d=\"M18.56 5.44l.94 2.06.94-2.06 2.06-.94-2.06-.94-.94-2.06-.94 2.06-2.06.94zm-11 1L8.5 8.5l.94-2.06 2.06-.94-2.06-.94L8.5 2.5l-.94 2.06-2.06.94zm10 10l.94 2.06.94-2.06 2.06-.94-2.06-.94-.94-2.06-.94 2.06-2.06.94z\"/><path d=\"M17.41 7.96l-1.37-1.37c-.4-.4-.92-.59-1.43-.59-.52 0-1.04.2-1.43.59L10.3 9.45l-7.72 7.72c-.78.78-.78 2.05 0 2.83L4 21.41c.39.39.9.59 1.41.59.51 0 1.02-.2 1.41-.59l7.78-7.78 2.81-2.81c.8-.78.8-2.07 0-2.86zM5.41 20L4 18.59l7.72-7.72 1.47 1.35L5.41 20z\"/>\n",
              "  </svg>\n",
              "      </button>\n",
              "      \n",
              "  <style>\n",
              "    .colab-df-container {\n",
              "      display:flex;\n",
              "      flex-wrap:wrap;\n",
              "      gap: 12px;\n",
              "    }\n",
              "\n",
              "    .colab-df-convert {\n",
              "      background-color: #E8F0FE;\n",
              "      border: none;\n",
              "      border-radius: 50%;\n",
              "      cursor: pointer;\n",
              "      display: none;\n",
              "      fill: #1967D2;\n",
              "      height: 32px;\n",
              "      padding: 0 0 0 0;\n",
              "      width: 32px;\n",
              "    }\n",
              "\n",
              "    .colab-df-convert:hover {\n",
              "      background-color: #E2EBFA;\n",
              "      box-shadow: 0px 1px 2px rgba(60, 64, 67, 0.3), 0px 1px 3px 1px rgba(60, 64, 67, 0.15);\n",
              "      fill: #174EA6;\n",
              "    }\n",
              "\n",
              "    [theme=dark] .colab-df-convert {\n",
              "      background-color: #3B4455;\n",
              "      fill: #D2E3FC;\n",
              "    }\n",
              "\n",
              "    [theme=dark] .colab-df-convert:hover {\n",
              "      background-color: #434B5C;\n",
              "      box-shadow: 0px 1px 3px 1px rgba(0, 0, 0, 0.15);\n",
              "      filter: drop-shadow(0px 1px 2px rgba(0, 0, 0, 0.3));\n",
              "      fill: #FFFFFF;\n",
              "    }\n",
              "  </style>\n",
              "\n",
              "      <script>\n",
              "        const buttonEl =\n",
              "          document.querySelector('#df-1f550cdb-6fc2-411e-a2a8-611194ce2d5e button.colab-df-convert');\n",
              "        buttonEl.style.display =\n",
              "          google.colab.kernel.accessAllowed ? 'block' : 'none';\n",
              "\n",
              "        async function convertToInteractive(key) {\n",
              "          const element = document.querySelector('#df-1f550cdb-6fc2-411e-a2a8-611194ce2d5e');\n",
              "          const dataTable =\n",
              "            await google.colab.kernel.invokeFunction('convertToInteractive',\n",
              "                                                     [key], {});\n",
              "          if (!dataTable) return;\n",
              "\n",
              "          const docLinkHtml = 'Like what you see? Visit the ' +\n",
              "            '<a target=\"_blank\" href=https://colab.research.google.com/notebooks/data_table.ipynb>data table notebook</a>'\n",
              "            + ' to learn more about interactive tables.';\n",
              "          element.innerHTML = '';\n",
              "          dataTable['output_type'] = 'display_data';\n",
              "          await google.colab.output.renderOutput(dataTable, element);\n",
              "          const docLink = document.createElement('div');\n",
              "          docLink.innerHTML = docLinkHtml;\n",
              "          element.appendChild(docLink);\n",
              "        }\n",
              "      </script>\n",
              "    </div>\n",
              "  </div>\n",
              "  "
            ]
          },
          "metadata": {},
          "execution_count": 34
        }
      ]
    },
    {
      "cell_type": "markdown",
      "source": [
        "4. Tampilan Modul Pembelajaran (Setelah Preprocessing)"
      ],
      "metadata": {
        "id": "tfNHz2p77Pxj"
      }
    },
    {
      "cell_type": "code",
      "source": [
        "def print_description_clean(index):\n",
        "    example = df[df.index == index][['desc_clean', 'Name','Address']].values[0]\n",
        "    if len(example) > 0:\n",
        "        print(example[0])\n",
        "        print('Nama Perusahaan:', example[1])\n",
        "        print('Alamat:', example[2])"
      ],
      "metadata": {
        "id": "tKlqLpmd7N4r"
      },
      "execution_count": 35,
      "outputs": []
    },
    {
      "cell_type": "code",
      "source": [
        "print_description_clean(1)"
      ],
      "metadata": {
        "colab": {
          "base_uri": "https://localhost:8080/"
        },
        "id": "fqN5_NFQ7Xb7",
        "outputId": "a1167675-a1ab-4d1c-9820-e37dfdad1ae8"
      },
      "execution_count": 36,
      "outputs": [
        {
          "output_type": "stream",
          "name": "stdout",
          "text": [
            "data  visualization with tableau memahami cara untuk memvisualisasikan data menggunakan tableau agar data dapat lebih mudah dipahami digital product analytics memahami dasardasar digital product analytics untuk meningkatkan sistem operasional dalam bisnis sql for analytics memahami dasardasar sql dan mampu menggunakannya untuk ekstraksi data dari basis data relasional introduction to data analytics for business menyusun  menyortir  memproses  dan mempelajari data bisnis menggunakan metode dan teknik tertentu untuk diubah menjadi suatu business insight final project mampu mengeksekusi suatu rangkaian projek data analitik yang mewakili realcase di industri meliputi tahap persiapan data  pengolahan data  pemodelan sampai dengan tahap visualisasi  dashboard  general competencies pembelajaran tambahan yang dapat mendukung kemampuan peserta dalam mengikuti dan menerapkan program digital marketing yang meliputi 1  communication and presentations skili 2 analytical amp  strategic thinking skill\n",
            "Nama Perusahaan: PT Ruang Raya Indonesia\n",
            "Alamat: Jl. Dr. Saharjo No.161, Manggarai Selatan, Tebet, Kota Jakarta Selatan, Daerah Khusus Ibukota Jakarta 12860\n"
          ]
        }
      ]
    },
    {
      "cell_type": "code",
      "source": [
        "print_description_clean(3)"
      ],
      "metadata": {
        "colab": {
          "base_uri": "https://localhost:8080/"
        },
        "id": "hjGvLqv373G6",
        "outputId": "cccff437-f99b-44bd-fa27-63570588c10d"
      },
      "execution_count": 37,
      "outputs": [
        {
          "output_type": "stream",
          "name": "stdout",
          "text": [
            "logika dan konsep teknologi ai metode penelitian ai siklus projek ai pemrograman python etika profesi  keterampilan perusahaan proyek akhir\n",
            "Nama Perusahaan: PT. Sintesis Komunikasi Indonesia\n",
            "Alamat: Jl. Cisanggiri V, No 6, Petogogan, Kebayoran Baru, Jakarta Selatan 12170\n"
          ]
        }
      ]
    },
    {
      "cell_type": "code",
      "source": [
        "print_description_clean(5)"
      ],
      "metadata": {
        "colab": {
          "base_uri": "https://localhost:8080/"
        },
        "id": "j5YZBO8u76mz",
        "outputId": "3b81ab2f-cade-4bd6-a0d5-5a6a6fc8841d"
      },
      "execution_count": 38,
      "outputs": [
        {
          "output_type": "stream",
          "name": "stdout",
          "text": [
            "perancangan produk jasa komunikasi leadership  long life learning manajemen organisasi bisnis   startup berbasis teknologi digital teknologi informasi digital mindset\n",
            "Nama Perusahaan: PT Mitra Semeru Indonesia\n",
            "Alamat: Jl. Mampang Prapatan Raya no 84A, Tegal Parang, Mampang Prapatan, Jakarta Selatan\n"
          ]
        }
      ]
    },
    {
      "cell_type": "markdown",
      "source": [
        "5. TF-IDF & Cosine Similarity"
      ],
      "metadata": {
        "id": "8Uvr811U8FW7"
      }
    },
    {
      "cell_type": "code",
      "source": [
        "df.set_index('Name', inplace=True)\n",
        "tf = TfidfVectorizer(analyzer='word', ngram_range=(1, 3), min_df=0, stop_words='english')\n",
        "tfidf_matrix = tf.fit_transform(df['desc_clean'])\n",
        "cos_sim = cosine_similarity(tfidf_matrix, tfidf_matrix)\n",
        "cos_sim"
      ],
      "metadata": {
        "colab": {
          "base_uri": "https://localhost:8080/"
        },
        "id": "2LmsXaOt8Gvc",
        "outputId": "db5602f4-14b7-4b81-b8d4-59bdb484b26c"
      },
      "execution_count": 39,
      "outputs": [
        {
          "output_type": "execute_result",
          "data": {
            "text/plain": [
              "array([[1.        , 0.1171141 , 0.09751346, 0.04595639, 0.01880241,\n",
              "        0.02643456, 0.        , 0.        , 0.01660741, 0.01207077,\n",
              "        0.        ],\n",
              "       [0.1171141 , 1.        , 0.02914372, 0.01606104, 0.03436305,\n",
              "        0.02600702, 0.00472925, 0.0071489 , 0.01469669, 0.01205545,\n",
              "        0.01986504],\n",
              "       [0.09751346, 0.02914372, 1.        , 0.02354804, 0.01712873,\n",
              "        0.        , 0.        , 0.01399868, 0.        , 0.00942018,\n",
              "        0.        ],\n",
              "       [0.04595639, 0.01606104, 0.02354804, 1.        , 0.00768573,\n",
              "        0.02641112, 0.        , 0.        , 0.00694445, 0.00422687,\n",
              "        0.00959285],\n",
              "       [0.01880241, 0.03436305, 0.01712873, 0.00768573, 1.        ,\n",
              "        0.00791111, 0.        , 0.        , 0.0141509 , 0.00614921,\n",
              "        0.        ],\n",
              "       [0.02643456, 0.02600702, 0.        , 0.02641112, 0.00791111,\n",
              "        1.        , 0.        , 0.        , 0.00867921, 0.01634321,\n",
              "        0.        ],\n",
              "       [0.        , 0.00472925, 0.        , 0.        , 0.        ,\n",
              "        0.        , 1.        , 0.01260029, 0.        , 0.        ,\n",
              "        0.        ],\n",
              "       [0.        , 0.0071489 , 0.01399868, 0.        , 0.        ,\n",
              "        0.        , 0.01260029, 1.        , 0.        , 0.        ,\n",
              "        0.        ],\n",
              "       [0.01660741, 0.01469669, 0.        , 0.00694445, 0.0141509 ,\n",
              "        0.00867921, 0.        , 0.        , 1.        , 0.00555613,\n",
              "        0.01891438],\n",
              "       [0.01207077, 0.01205545, 0.00942018, 0.00422687, 0.00614921,\n",
              "        0.01634321, 0.        , 0.        , 0.00555613, 1.        ,\n",
              "        0.        ],\n",
              "       [0.        , 0.01986504, 0.        , 0.00959285, 0.        ,\n",
              "        0.        , 0.        , 0.        , 0.01891438, 0.        ,\n",
              "        1.        ]])"
            ]
          },
          "metadata": {},
          "execution_count": 39
        }
      ]
    },
    {
      "cell_type": "code",
      "source": [
        "indices = pd.Series(df.index)\n",
        "indices[:50]"
      ],
      "metadata": {
        "colab": {
          "base_uri": "https://localhost:8080/"
        },
        "id": "Kye3PzF68nzT",
        "outputId": "1c2efd4d-0897-4665-ca3b-1f6b5af84eea"
      },
      "execution_count": 40,
      "outputs": [
        {
          "output_type": "execute_result",
          "data": {
            "text/plain": [
              "0                           Farrel Nathanael\n",
              "1                    PT Ruang Raya Indonesia\n",
              "2               PT Nurul Fikri Cipta Inovasi\n",
              "3          PT. Sintesis Komunikasi Indonesia\n",
              "4                 PT Neosia Pratama Indonusa\n",
              "5                  PT Mitra Semeru Indonesia\n",
              "6     PT Bank Negara Indonesia (Persero) Tbk\n",
              "7          PT Telkom Indonesia (Persero) Tbk\n",
              "8        PT Abbauf Mulia Konsultan Teknologi\n",
              "9                      Yayasan Hasnur Centre\n",
              "10    PT Bank Rakyat Indonesia (Persero) Tbk\n",
              "Name: Name, dtype: object"
            ]
          },
          "metadata": {},
          "execution_count": 40
        }
      ]
    },
    {
      "cell_type": "markdown",
      "source": [
        "6. Modelling"
      ],
      "metadata": {
        "id": "Om2TGyZb8qYr"
      }
    },
    {
      "cell_type": "code",
      "source": [
        "def recommendations(name, cos_sim = cos_sim):\n",
        "    \n",
        "    recommended_modul = []\n",
        "    \n",
        "    # Mengambil nama modul berdasarkan variabel indicies\n",
        "    idx = indices[indices == name].index[0]\n",
        "\n",
        "    # Membuat series berdasarkan skor kesamaan\n",
        "    score_series = pd.Series(cos_sim[idx]).sort_values(ascending = False)\n",
        "\n",
        "    # mengambil index dan dibuat 3 baris rekomendasi terbaik\n",
        "    top_10_indexes = list(score_series.iloc[1:4].index)\n",
        "    \n",
        "    for i in top_10_indexes:\n",
        "        recommended_modul.append(list(df.index)[i])\n",
        "        \n",
        "    return recommended_modul"
      ],
      "metadata": {
        "id": "llrsfxVS8sDl"
      },
      "execution_count": 41,
      "outputs": []
    },
    {
      "cell_type": "markdown",
      "source": [
        "7. Prediksi"
      ],
      "metadata": {
        "id": "1oq12anc80iq"
      }
    },
    {
      "cell_type": "code",
      "source": [
        "recommendations('Farrel Nathanael')"
      ],
      "metadata": {
        "colab": {
          "base_uri": "https://localhost:8080/"
        },
        "id": "J2rkPQZi80U6",
        "outputId": "48d44bbc-8df7-4280-c137-57622709bfca"
      },
      "execution_count": 42,
      "outputs": [
        {
          "output_type": "execute_result",
          "data": {
            "text/plain": [
              "['PT Ruang Raya Indonesia',\n",
              " 'PT Nurul Fikri Cipta Inovasi',\n",
              " 'PT. Sintesis Komunikasi Indonesia']"
            ]
          },
          "metadata": {},
          "execution_count": 42
        }
      ]
    },
    {
      "cell_type": "code",
      "source": [
        "recommendations('PT Ruang Raya Indonesia')"
      ],
      "metadata": {
        "colab": {
          "base_uri": "https://localhost:8080/"
        },
        "id": "qc_NJA1f9-6b",
        "outputId": "a8607dd5-275a-4c74-dcb5-7b5ba5e53bbc"
      },
      "execution_count": 43,
      "outputs": [
        {
          "output_type": "execute_result",
          "data": {
            "text/plain": [
              "['Farrel Nathanael',\n",
              " 'PT Neosia Pratama Indonusa',\n",
              " 'PT Nurul Fikri Cipta Inovasi']"
            ]
          },
          "metadata": {},
          "execution_count": 43
        }
      ]
    },
    {
      "cell_type": "code",
      "source": [
        "recommendations('PT Abbauf Mulia Konsultan Teknologi')"
      ],
      "metadata": {
        "colab": {
          "base_uri": "https://localhost:8080/"
        },
        "id": "JbYomqJ9-kVr",
        "outputId": "89aa6cba-b7c4-4f69-bb6e-c2c0e5016754"
      },
      "execution_count": 44,
      "outputs": [
        {
          "output_type": "execute_result",
          "data": {
            "text/plain": [
              "['PT Bank Rakyat Indonesia (Persero) Tbk',\n",
              " 'Farrel Nathanael',\n",
              " 'PT Ruang Raya Indonesia']"
            ]
          },
          "metadata": {},
          "execution_count": 44
        }
      ]
    }
  ]
}